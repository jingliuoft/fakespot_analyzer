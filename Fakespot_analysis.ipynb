{
 "cells": [
  {
   "cell_type": "markdown",
   "metadata": {},
   "source": [
    "This notebook analyzed the Amazon product reviews for bluebooth headphones, and the intention is to find the suspecious patterns on the products review, together with the grade found on FakeSpot by Mozilla.\n",
    "\n",
    "There are two main parts on this notebook, the first part on extracting review data from Amazon by Selenium. The second part focus on the analysis on the patterns of the reviews."
   ]
  },
  {
   "cell_type": "code",
   "execution_count": 3,
   "metadata": {},
   "outputs": [],
   "source": [
    "from utils.utils import save_pickle, load_pickle"
   ]
  },
  {
   "cell_type": "markdown",
   "metadata": {},
   "source": [
    "# Part 1 - Data Extraction by Selenium\n",
    "\n",
    "Please skip this part and move to Part 2 if you are interested on analysis and modeling"
   ]
  },
  {
   "cell_type": "code",
   "execution_count": 1,
   "metadata": {},
   "outputs": [
    {
     "name": "stdout",
     "output_type": "stream",
     "text": [
      "{'browserName': 'chrome', 'pageLoadStrategy': <PageLoadStrategy.normal: 'normal'>, 'goog:chromeOptions': {'prefs': {'credentials_enable_service': False, 'profile.password_manager_enabled': False, 'autofill.profile_enabled': False, 'credentials_offer_save_update_password': False, 'password_manager_offer_save_update_password': False, 'password_manager_enable_autosignin': False, 'goog:localPasskeySetting': False}, 'extensions': [], 'args': ['--password-store=basic', '--incognito']}}\n"
     ]
    },
    {
     "data": {
      "text/plain": [
       "True"
      ]
     },
     "execution_count": 1,
     "metadata": {},
     "output_type": "execute_result"
    }
   ],
   "source": [
    "from amazon_scraper import AmazonReviewScraper\n",
    "from selenium.webdriver.common.by import By\n",
    "import os, json\n",
    "os.environ[\"AMAZON_CREDENTIAL\"] = \"/Users/jinli1/Projects/jing-toy/.vscode/amazon_credential.json\"\n",
    "amazon_credential_path = os.environ[\"AMAZON_CREDENTIAL\"]\n",
    "with open(amazon_credential_path, \"r\") as file:\n",
    "    amazon_credential = json.load(file)\n",
    "\n",
    "ars = AmazonReviewScraper(amazon_credential[\"username\"], amazon_credential[\"password\"])\n",
    "ars.sign_in()"
   ]
  },
  {
   "cell_type": "markdown",
   "metadata": {},
   "source": [
    "### Extract the text message on each product review pages on count of ratings and reviews"
   ]
  },
  {
   "cell_type": "code",
   "execution_count": null,
   "metadata": {},
   "outputs": [],
   "source": [
    "page_to_extract = 10\n",
    "review_rating_dict = ars.find_similar_product_review_rating_counts(page_to_extract)"
   ]
  },
  {
   "cell_type": "code",
   "execution_count": 3,
   "metadata": {},
   "outputs": [],
   "source": [
    "product_review_count = {}\n",
    "for url, count_str in review_rating_dict.items():\n",
    "    product_review_count.setdefault(url, {})\n",
    "    product_review_count[url][\"total_ratings\"]=AmazonReviewScraper.extract_ratings_and_reviews(count_str)[0]\n",
    "    product_review_count[url][\"total_reviews\"]=AmazonReviewScraper.extract_ratings_and_reviews(count_str)[1]\n",
    "    product_review_count[url][\"review_rating_ratio\"] = product_review_count[url][\"total_reviews\"]/product_review_count[url][\"total_ratings\"]"
   ]
  },
  {
   "cell_type": "code",
   "execution_count": 5,
   "metadata": {},
   "outputs": [
    {
     "data": {
      "text/plain": [
       "<Axes: ylabel='Count'>"
      ]
     },
     "execution_count": 5,
     "metadata": {},
     "output_type": "execute_result"
    },
    {
     "data": {
      "image/png": "[encoded data removed]",
      "text/plain": [
       "<Figure size 640x480 with 1 Axes>"
      ]
     },
     "metadata": {},
     "output_type": "display_data"
    }
   ],
   "source": [
    "import seaborn as sns\n",
    "ratios = [p_dict[\"review_rating_ratio\"] for p_dict in product_review_count.values() if p_dict[\"review_rating_ratio\"] < 1]\n",
    "sns.histplot(ratios, bins=50, kde=True)"
   ]
  },
  {
   "cell_type": "markdown",
   "metadata": {},
   "source": [
    "### Extract the Fakespot grade for those products"
   ]
  },
  {
   "cell_type": "code",
   "execution_count": null,
   "metadata": {},
   "outputs": [],
   "source": [
    "fakesport_grade = dict()\n",
    "for product_url in review_rating_dict.keys():\n",
    "    try:\n",
    "        fakespot_grade = ars.get_fakespot_grade(product_url)\n",
    "        fakesport_grade[product_url] = fakespot_grade\n",
    "        print(fakespot_grade, product_url)\n",
    "    except:\n",
    "        continue"
   ]
  },
  {
   "cell_type": "code",
   "execution_count": 54,
   "metadata": {},
   "outputs": [],
   "source": [
    "grade_product_dict = {}\n",
    "for url, grade in fakesport_grade.items():\n",
    "    grade_product_dict.setdefault(grade, [])\n",
    "    grade_product_dict[grade].append(url)\n"
   ]
  },
  {
   "cell_type": "code",
   "execution_count": null,
   "metadata": {},
   "outputs": [],
   "source": [
    "# save_pickle(fakesport_grade, \"fakesport_grade.pkl\")"
   ]
  },
  {
   "cell_type": "markdown",
   "metadata": {},
   "source": [
    "### Get the product review for all above product\n",
    "\n",
    "Note: there's a limitation on the number of review we can see from the product review page. So to standarize the review data, we always get the reviews \"by recent\" and extract all reviews on the page, every product has maximum of 100 reviews (could be less if the acutal number of reviews are less than it)"
   ]
  },
  {
   "cell_type": "code",
   "execution_count": null,
   "metadata": {},
   "outputs": [],
   "source": [
    "product_reviews = {}\n",
    "for url, grade in fakesport_grade.items():\n",
    "    ars.driver.get(url)\n",
    "    ars.driver.find_element(By.ID, \"acrCustomerReviewText\").click()\n",
    "    ars.driver.find_element(By.CSS_SELECTOR, \"a[data-hook='see-all-reviews-link-foot']\").click()\n",
    "    review_dict = ars.find_all_reviews(ars.driver.current_url, 20)\n",
    "    product_reviews[url] = review_dict\n"
   ]
  },
  {
   "cell_type": "code",
   "execution_count": null,
   "metadata": {},
   "outputs": [
    {
     "name": "stdout",
     "output_type": "stream",
     "text": [
      "Dictionary product_reviews successfully saved.\n"
     ]
    }
   ],
   "source": [
    "# save_pickle(product_reviews, \"product_reviews.pkl\")"
   ]
  },
  {
   "cell_type": "markdown",
   "metadata": {},
   "source": [
    "# Part 2 - EDA and Analysis\n",
    "### Generate standard features for reviews"
   ]
  },
  {
   "cell_type": "code",
   "execution_count": null,
   "metadata": {},
   "outputs": [],
   "source": [
    "import re\n",
    "import string\n",
    "from nltk.corpus import stopwords\n",
    "from nltk.tokenize import word_tokenize\n",
    "from nltk.stem import WordNetLemmatizer\n",
    "from bs4 import BeautifulSoup\n",
    "from nltk.sentiment.vader import SentimentIntensityAnalyzer\n",
    "\n",
    "\n",
    "def preprocess_text_and_get_tokens(text):\n",
    "    \"\"\"Preprocesses a given text string.\"\"\"\n",
    "\n",
    "    # 1. Lowercasing\n",
    "    text = text.lower()\n",
    "    # 2. Remove HTML tags\n",
    "    text = BeautifulSoup(text, \"html.parser\").get_text()\n",
    "    # 3. Remove URLs\n",
    "    text = re.sub(r'http\\S+|www\\S+|https\\S+', '', text, flags=re.MULTILINE)\n",
    "    # 4. Remove Punctuation\n",
    "    text = text.translate(str.maketrans('', '', string.punctuation))\n",
    "     # 6. Remove special characters\n",
    "    text = re.sub(r'[^a-zA-Z0-9\\s]', '', text)\n",
    "    # 7. Tokenization\n",
    "    tokens = word_tokenize(text)\n",
    "    # 8. Remove Stop Words\n",
    "    stop_words = set(stopwords.words('english'))\n",
    "    filtered_tokens = [word for word in tokens if word not in stop_words]\n",
    "    # 9. Lemmatization\n",
    "    lemmatizer = WordNetLemmatizer()\n",
    "    lemmatized_tokens = [lemmatizer.lemmatize(word) for word in filtered_tokens]\n",
    "\n",
    "    return lemmatized_tokens\n",
    "\n",
    "def extract_text_features(tokens):\n",
    "    \"\"\"Extract features from tokenized text.\"\"\"\n",
    "\n",
    "    text = \" \".join(tokens)\n",
    "    feature_dict = {}\n",
    "\n",
    "    # Basic Features\n",
    "    feature_dict[\"word_count\"] = len(tokens)\n",
    "    feature_dict[\"avg_word_len\"] = sum(len(word) for word in tokens) / len(tokens) if tokens else 0\n",
    "    feature_dict[\"unique_word_count\"] = len(set(tokens))\n",
    "\n",
    "    # Sentiment Features\n",
    "    analyzer = SentimentIntensityAnalyzer()\n",
    "    scores = analyzer.polarity_scores(text)\n",
    "    feature_dict[\"sentiment_pos\"] = scores[\"pos\"]\n",
    "    feature_dict[\"sentiment_neg\"] = scores[\"neg\"]\n",
    "    feature_dict[\"sentiment_neu\"] = scores[\"neu\"]\n",
    "    feature_dict[\"sentiment_comp\"] = scores[\"compound\"]\n",
    "\n",
    "    return feature_dict"
   ]
  },
  {
   "cell_type": "code",
   "execution_count": null,
   "metadata": {},
   "outputs": [
    {
     "name": "stderr",
     "output_type": "stream",
     "text": [
      "/var/folders/l5/7tf27m_n63l32m8869jhz85m0000gr/T/ipykernel_35480/1869277840.py:14: MarkupResemblesLocatorWarning: The input looks more like a filename than markup. You may want to open this file and pass the filehandle into Beautiful Soup.\n",
      "  text = BeautifulSoup(text, \"html.parser\").get_text()\n"
     ]
    }
   ],
   "source": [
    "import pandas as pd\n",
    "\n",
    "# load data\n",
    "product_reviews = load_pickle(\"cache/product_reviews\")\n",
    "\n",
    "# generate features for every review and save them in a dictionary\n",
    "product_features = {}\n",
    "for product_url, p_dict in product_reviews.items():\n",
    "    product_features.setdefault(product_url, {})\n",
    "    for review_id, review_d in p_dict.items():\n",
    "        # create tokens\n",
    "        product_features[product_url].setdefault(review_id, {})\n",
    "        tokens = preprocess_text_and_get_tokens(review_d[\"review_text\"])\n",
    "        product_features[product_url][review_id][\"tokens\"] = tokens\n",
    "\n",
    "        # extract basic features\n",
    "        feature_dict = extract_text_features(product_features[product_url][review_id][\"tokens\"])\n",
    "        product_features[product_url][review_id][\"feature_dict\"] = feature_dict\n",
    "\n",
    "        # reconstruct string by token \n",
    "        token_string = \" \".join([token for token in product_features[product_url][review_id][\"tokens\"]])\n",
    "        product_features[product_url][review_id][\"token_string\"] = token_string\n",
    "\n",
    "        # create feature list\n",
    "        feature_list = []\n",
    "        feature_list.append(review_d[\"has_image\"])\n",
    "        feature_list.append(review_d[\"has_video\"])\n",
    "        feature_list.append(review_d[\"review_rating\"])\n",
    "        feature_list.extend(list(product_features[product_url][review_id][\"feature_dict\"].values()))\n",
    "        product_features[product_url][review_id][\"features\"] = feature_list\n",
    "\n",
    "# combine the reviews into a dataframe\n",
    "dfs = []\n",
    "for product_url, reviews in product_features.items():\n",
    "    df_product_features = pd.DataFrame({review_id: (d[\"features\"] + [d[\"token_string\"]]) for review_id, d in product_features[product_url].items()}).T\n",
    "    df_product_features.columns = [f\"feature_{n}\" for n in range(10)] + [\"token_string\"]\n",
    "    df_product_features[\"product_url\"] = product_url\n",
    "    df_product_features[\"review_rating_ratio\"] = review_rating_dict[product_url][\"review_rating_ratio\"]\n",
    "    df_product_features[\"product_fakespot_grade\"] = fakesport_grade[product_url]\n",
    "    dfs.append(df_product_features)\n",
    "df_all_product_features = pd.concat(dfs)\n",
    "\n",
    "# save_pickle(df_all_product_features, \"df_all_product_features\")"
   ]
  },
  {
   "cell_type": "code",
   "execution_count": 385,
   "metadata": {},
   "outputs": [
    {
     "data": {
      "text/html": [
       "<div>\n",
       "<style scoped>\n",
       "    .dataframe tbody tr th:only-of-type {\n",
       "        vertical-align: middle;\n",
       "    }\n",
       "\n",
       "    .dataframe tbody tr th {\n",
       "        vertical-align: top;\n",
       "    }\n",
       "\n",
       "    .dataframe thead th {\n",
       "        text-align: right;\n",
       "    }\n",
       "</style>\n",
       "<table border=\"1\" class=\"dataframe\">\n",
       "  <thead>\n",
       "    <tr style=\"text-align: right;\">\n",
       "      <th></th>\n",
       "      <th>feature_0</th>\n",
       "      <th>feature_1</th>\n",
       "      <th>feature_2</th>\n",
       "      <th>feature_3</th>\n",
       "      <th>feature_4</th>\n",
       "      <th>feature_5</th>\n",
       "      <th>feature_6</th>\n",
       "      <th>feature_7</th>\n",
       "      <th>feature_8</th>\n",
       "      <th>feature_9</th>\n",
       "      <th>token_string</th>\n",
       "      <th>product_url</th>\n",
       "      <th>review_rating_ratio</th>\n",
       "      <th>product_fakespot_grade</th>\n",
       "    </tr>\n",
       "  </thead>\n",
       "  <tbody>\n",
       "    <tr>\n",
       "      <th>R30SZV56T07JOV</th>\n",
       "      <td>False</td>\n",
       "      <td>False</td>\n",
       "      <td>4</td>\n",
       "      <td>9</td>\n",
       "      <td>6.111111</td>\n",
       "      <td>7</td>\n",
       "      <td>0.577</td>\n",
       "      <td>0.0</td>\n",
       "      <td>0.423</td>\n",
       "      <td>0.8012</td>\n",
       "      <td>quality sound really good good quality materia...</td>\n",
       "      <td>https://www.amazon.com/All-new-Echo-Buds-2023-...</td>\n",
       "      <td>0.317468</td>\n",
       "      <td>B</td>\n",
       "    </tr>\n",
       "    <tr>\n",
       "      <th>R2YD8IZAN1L5QV</th>\n",
       "      <td>False</td>\n",
       "      <td>False</td>\n",
       "      <td>1</td>\n",
       "      <td>20</td>\n",
       "      <td>4.5</td>\n",
       "      <td>17</td>\n",
       "      <td>0.0</td>\n",
       "      <td>0.217</td>\n",
       "      <td>0.783</td>\n",
       "      <td>-0.6124</td>\n",
       "      <td>difficult pair pair alexa never got work even ...</td>\n",
       "      <td>https://www.amazon.com/All-new-Echo-Buds-2023-...</td>\n",
       "      <td>0.317468</td>\n",
       "      <td>B</td>\n",
       "    </tr>\n",
       "    <tr>\n",
       "      <th>R1SG3KLESASNYO</th>\n",
       "      <td>False</td>\n",
       "      <td>False</td>\n",
       "      <td>4</td>\n",
       "      <td>4</td>\n",
       "      <td>5.5</td>\n",
       "      <td>4</td>\n",
       "      <td>0.516</td>\n",
       "      <td>0.0</td>\n",
       "      <td>0.484</td>\n",
       "      <td>0.4927</td>\n",
       "      <td>price product really good</td>\n",
       "      <td>https://www.amazon.com/All-new-Echo-Buds-2023-...</td>\n",
       "      <td>0.317468</td>\n",
       "      <td>B</td>\n",
       "    </tr>\n",
       "    <tr>\n",
       "      <th>R1BRUHA6158TD1</th>\n",
       "      <td>False</td>\n",
       "      <td>False</td>\n",
       "      <td>1</td>\n",
       "      <td>14</td>\n",
       "      <td>5.357143</td>\n",
       "      <td>14</td>\n",
       "      <td>0.326</td>\n",
       "      <td>0.163</td>\n",
       "      <td>0.512</td>\n",
       "      <td>0.5423</td>\n",
       "      <td>product performs 20 ear bud design great idea ...</td>\n",
       "      <td>https://www.amazon.com/All-new-Echo-Buds-2023-...</td>\n",
       "      <td>0.317468</td>\n",
       "      <td>B</td>\n",
       "    </tr>\n",
       "    <tr>\n",
       "      <th>R3IK00EI1WUVQO</th>\n",
       "      <td>False</td>\n",
       "      <td>False</td>\n",
       "      <td>4</td>\n",
       "      <td>7</td>\n",
       "      <td>5.714286</td>\n",
       "      <td>7</td>\n",
       "      <td>0.406</td>\n",
       "      <td>0.0</td>\n",
       "      <td>0.594</td>\n",
       "      <td>0.6249</td>\n",
       "      <td>great battery life connection volume 100 phone</td>\n",
       "      <td>https://www.amazon.com/All-new-Echo-Buds-2023-...</td>\n",
       "      <td>0.317468</td>\n",
       "      <td>B</td>\n",
       "    </tr>\n",
       "    <tr>\n",
       "      <th>...</th>\n",
       "      <td>...</td>\n",
       "      <td>...</td>\n",
       "      <td>...</td>\n",
       "      <td>...</td>\n",
       "      <td>...</td>\n",
       "      <td>...</td>\n",
       "      <td>...</td>\n",
       "      <td>...</td>\n",
       "      <td>...</td>\n",
       "      <td>...</td>\n",
       "      <td>...</td>\n",
       "      <td>...</td>\n",
       "      <td>...</td>\n",
       "      <td>...</td>\n",
       "    </tr>\n",
       "    <tr>\n",
       "      <th>R3FRDB5B4OBRUA</th>\n",
       "      <td>False</td>\n",
       "      <td>False</td>\n",
       "      <td>2</td>\n",
       "      <td>48</td>\n",
       "      <td>5.25</td>\n",
       "      <td>42</td>\n",
       "      <td>0.128</td>\n",
       "      <td>0.053</td>\n",
       "      <td>0.819</td>\n",
       "      <td>0.4703</td>\n",
       "      <td>despite use 54 bluetooth chip 142 mm driver so...</td>\n",
       "      <td>https://www.amazon.com/Bluetooth-Headphones-Ca...</td>\n",
       "      <td>0.872777</td>\n",
       "      <td>F</td>\n",
       "    </tr>\n",
       "    <tr>\n",
       "      <th>R1K92OG4FIP8XR</th>\n",
       "      <td>False</td>\n",
       "      <td>False</td>\n",
       "      <td>5</td>\n",
       "      <td>40</td>\n",
       "      <td>5.975</td>\n",
       "      <td>35</td>\n",
       "      <td>0.507</td>\n",
       "      <td>0.0</td>\n",
       "      <td>0.493</td>\n",
       "      <td>0.9832</td>\n",
       "      <td>absolutely fantastic use driving job great bat...</td>\n",
       "      <td>https://www.amazon.com/Bluetooth-Headphones-Ca...</td>\n",
       "      <td>0.872777</td>\n",
       "      <td>F</td>\n",
       "    </tr>\n",
       "    <tr>\n",
       "      <th>R3898SHCPYITBL</th>\n",
       "      <td>False</td>\n",
       "      <td>False</td>\n",
       "      <td>5</td>\n",
       "      <td>44</td>\n",
       "      <td>4.568182</td>\n",
       "      <td>41</td>\n",
       "      <td>0.445</td>\n",
       "      <td>0.063</td>\n",
       "      <td>0.493</td>\n",
       "      <td>0.9766</td>\n",
       "      <td>work awesome airpod pro 2 new one spent 270 le...</td>\n",
       "      <td>https://www.amazon.com/Bluetooth-Headphones-Ca...</td>\n",
       "      <td>0.872777</td>\n",
       "      <td>F</td>\n",
       "    </tr>\n",
       "    <tr>\n",
       "      <th>R23NZFM6ADIX2Q</th>\n",
       "      <td>False</td>\n",
       "      <td>False</td>\n",
       "      <td>5</td>\n",
       "      <td>26</td>\n",
       "      <td>4.423077</td>\n",
       "      <td>21</td>\n",
       "      <td>0.503</td>\n",
       "      <td>0.0</td>\n",
       "      <td>0.497</td>\n",
       "      <td>0.9649</td>\n",
       "      <td>love color fit comfortable ear case let know m...</td>\n",
       "      <td>https://www.amazon.com/Bluetooth-Headphones-Ca...</td>\n",
       "      <td>0.872777</td>\n",
       "      <td>F</td>\n",
       "    </tr>\n",
       "    <tr>\n",
       "      <th>R2ZTMYTQIOHL7L</th>\n",
       "      <td>False</td>\n",
       "      <td>False</td>\n",
       "      <td>5</td>\n",
       "      <td>15</td>\n",
       "      <td>4.8</td>\n",
       "      <td>15</td>\n",
       "      <td>0.0</td>\n",
       "      <td>0.0</td>\n",
       "      <td>1.0</td>\n",
       "      <td>0.0</td>\n",
       "      <td>los probado durante 3 dia estan muy buenos tie...</td>\n",
       "      <td>https://www.amazon.com/Bluetooth-Headphones-Ca...</td>\n",
       "      <td>0.872777</td>\n",
       "      <td>F</td>\n",
       "    </tr>\n",
       "  </tbody>\n",
       "</table>\n",
       "<p>18495 rows × 14 columns</p>\n",
       "</div>"
      ],
      "text/plain": [
       "               feature_0 feature_1 feature_2 feature_3 feature_4 feature_5  \\\n",
       "R30SZV56T07JOV     False     False         4         9  6.111111         7   \n",
       "R2YD8IZAN1L5QV     False     False         1        20       4.5        17   \n",
       "R1SG3KLESASNYO     False     False         4         4       5.5         4   \n",
       "R1BRUHA6158TD1     False     False         1        14  5.357143        14   \n",
       "R3IK00EI1WUVQO     False     False         4         7  5.714286         7   \n",
       "...                  ...       ...       ...       ...       ...       ...   \n",
       "R3FRDB5B4OBRUA     False     False         2        48      5.25        42   \n",
       "R1K92OG4FIP8XR     False     False         5        40     5.975        35   \n",
       "R3898SHCPYITBL     False     False         5        44  4.568182        41   \n",
       "R23NZFM6ADIX2Q     False     False         5        26  4.423077        21   \n",
       "R2ZTMYTQIOHL7L     False     False         5        15       4.8        15   \n",
       "\n",
       "               feature_6 feature_7 feature_8 feature_9  \\\n",
       "R30SZV56T07JOV     0.577       0.0     0.423    0.8012   \n",
       "R2YD8IZAN1L5QV       0.0     0.217     0.783   -0.6124   \n",
       "R1SG3KLESASNYO     0.516       0.0     0.484    0.4927   \n",
       "R1BRUHA6158TD1     0.326     0.163     0.512    0.5423   \n",
       "R3IK00EI1WUVQO     0.406       0.0     0.594    0.6249   \n",
       "...                  ...       ...       ...       ...   \n",
       "R3FRDB5B4OBRUA     0.128     0.053     0.819    0.4703   \n",
       "R1K92OG4FIP8XR     0.507       0.0     0.493    0.9832   \n",
       "R3898SHCPYITBL     0.445     0.063     0.493    0.9766   \n",
       "R23NZFM6ADIX2Q     0.503       0.0     0.497    0.9649   \n",
       "R2ZTMYTQIOHL7L       0.0       0.0       1.0       0.0   \n",
       "\n",
       "                                                     token_string  \\\n",
       "R30SZV56T07JOV  quality sound really good good quality materia...   \n",
       "R2YD8IZAN1L5QV  difficult pair pair alexa never got work even ...   \n",
       "R1SG3KLESASNYO                          price product really good   \n",
       "R1BRUHA6158TD1  product performs 20 ear bud design great idea ...   \n",
       "R3IK00EI1WUVQO     great battery life connection volume 100 phone   \n",
       "...                                                           ...   \n",
       "R3FRDB5B4OBRUA  despite use 54 bluetooth chip 142 mm driver so...   \n",
       "R1K92OG4FIP8XR  absolutely fantastic use driving job great bat...   \n",
       "R3898SHCPYITBL  work awesome airpod pro 2 new one spent 270 le...   \n",
       "R23NZFM6ADIX2Q  love color fit comfortable ear case let know m...   \n",
       "R2ZTMYTQIOHL7L  los probado durante 3 dia estan muy buenos tie...   \n",
       "\n",
       "                                                      product_url  \\\n",
       "R30SZV56T07JOV  https://www.amazon.com/All-new-Echo-Buds-2023-...   \n",
       "R2YD8IZAN1L5QV  https://www.amazon.com/All-new-Echo-Buds-2023-...   \n",
       "R1SG3KLESASNYO  https://www.amazon.com/All-new-Echo-Buds-2023-...   \n",
       "R1BRUHA6158TD1  https://www.amazon.com/All-new-Echo-Buds-2023-...   \n",
       "R3IK00EI1WUVQO  https://www.amazon.com/All-new-Echo-Buds-2023-...   \n",
       "...                                                           ...   \n",
       "R3FRDB5B4OBRUA  https://www.amazon.com/Bluetooth-Headphones-Ca...   \n",
       "R1K92OG4FIP8XR  https://www.amazon.com/Bluetooth-Headphones-Ca...   \n",
       "R3898SHCPYITBL  https://www.amazon.com/Bluetooth-Headphones-Ca...   \n",
       "R23NZFM6ADIX2Q  https://www.amazon.com/Bluetooth-Headphones-Ca...   \n",
       "R2ZTMYTQIOHL7L  https://www.amazon.com/Bluetooth-Headphones-Ca...   \n",
       "\n",
       "                review_rating_ratio product_fakespot_grade  \n",
       "R30SZV56T07JOV             0.317468                      B  \n",
       "R2YD8IZAN1L5QV             0.317468                      B  \n",
       "R1SG3KLESASNYO             0.317468                      B  \n",
       "R1BRUHA6158TD1             0.317468                      B  \n",
       "R3IK00EI1WUVQO             0.317468                      B  \n",
       "...                             ...                    ...  \n",
       "R3FRDB5B4OBRUA             0.872777                      F  \n",
       "R1K92OG4FIP8XR             0.872777                      F  \n",
       "R3898SHCPYITBL             0.872777                      F  \n",
       "R23NZFM6ADIX2Q             0.872777                      F  \n",
       "R2ZTMYTQIOHL7L             0.872777                      F  \n",
       "\n",
       "[18495 rows x 14 columns]"
      ]
     },
     "execution_count": 385,
     "metadata": {},
     "output_type": "execute_result"
    }
   ],
   "source": [
    "df_all_product_features"
   ]
  },
  {
   "cell_type": "markdown",
   "metadata": {},
   "source": [
    "### Suspecious pattern - **daily number of reviews**"
   ]
  },
  {
   "cell_type": "code",
   "execution_count": 4,
   "metadata": {},
   "outputs": [
    {
     "name": "stdout",
     "output_type": "stream",
     "text": [
      "obj successfully loaded.\n",
      "obj successfully loaded.\n"
     ]
    }
   ],
   "source": [
    "product_reviews = load_pickle(\"cache/product_reviews\")\n",
    "fakespot_grade = load_pickle(\"cache/fakespot_grade\")"
   ]
  },
  {
   "cell_type": "markdown",
   "metadata": {},
   "source": [
    "Extract the daily number of reviews for every product, and calcuating the mean, var, std and coefficient of covariance of the daily counts to see if there's a pattern for products under different grades.\n",
    "\n",
    "The context behind this pattern is that number of legit reviews from human should not have big variant. Machine/fake reviews that are trying to boost the sales usually happened within a period of time"
   ]
  },
  {
   "cell_type": "code",
   "execution_count": 5,
   "metadata": {},
   "outputs": [],
   "source": [
    "import numpy as np\n",
    "from utils.utils import extract_date_from_review_string\n",
    "\n",
    "product_review_dates = {}\n",
    "for product_url, review_dict in product_reviews.items():\n",
    "    product_review_dates.setdefault(product_url, {})\n",
    "    for review_id, review_details in review_dict.items():\n",
    "        review_date = extract_date_from_review_string(review_details[\"review_date\"])\n",
    "        if review_date:\n",
    "            product_review_dates[product_url].setdefault(review_date, 0)\n",
    "            product_review_dates[product_url][review_date] += 1\n",
    "\n",
    "product_daily_count_stats = {}\n",
    "for product_url, daily_count in product_review_dates.items():\n",
    "    product_daily_count_stats.setdefault(product_url, {})\n",
    "    product_daily_count_stats[product_url][\"var\"]=np.var(list(daily_count.values()))\n",
    "    product_daily_count_stats[product_url][\"mean\"]=np.mean(list(daily_count.values()))\n",
    "    product_daily_count_stats[product_url][\"std\"]=np.std(list(daily_count.values()))\n",
    "    product_daily_count_stats[product_url][\"cv\"]=np.std(list(daily_count.values()))/np.mean(list(daily_count.values()))\n"
   ]
  },
  {
   "cell_type": "code",
   "execution_count": 16,
   "metadata": {},
   "outputs": [],
   "source": [
    "grades = [\"A\",\"B\",\"C\",\"D\",\"F\"]"
   ]
  },
  {
   "cell_type": "code",
   "execution_count": 6,
   "metadata": {},
   "outputs": [],
   "source": [
    "import pandas as pd\n",
    "df_daily_count_stats = pd.DataFrame(product_daily_count_stats).T\n",
    "df_daily_count_stats[\"fakespot_grade\"] = [fakespot_grade[product_url] for product_url in df_daily_count_stats.index]"
   ]
  },
  {
   "cell_type": "code",
   "execution_count": 11,
   "metadata": {},
   "outputs": [
    {
     "name": "stderr",
     "output_type": "stream",
     "text": [
      "/var/folders/l5/7tf27m_n63l32m8869jhz85m0000gr/T/ipykernel_96992/4267958378.py:5: FutureWarning: \n",
      "\n",
      "Passing `palette` without assigning `hue` is deprecated and will be removed in v0.14.0. Assign the `x` variable to `hue` and set `legend=False` for the same effect.\n",
      "\n",
      "  sns.boxplot(x=\"fakespot_grade\", y=\"cv\", data=df_daily_count_stats[df_daily_count_stats[\"fakespot_grade\"].isin(grades)], palette=\"viridis\", order=grades)\n"
     ]
    },
    {
     "data": {
      "image/png": "[encoded data removed]",
      "text/plain": [
       "<Figure size 1000x600 with 1 Axes>"
      ]
     },
     "metadata": {},
     "output_type": "display_data"
    }
   ],
   "source": [
    "import matplotlib.pyplot as plt\n",
    "import seaborn as sns\n",
    "\n",
    "plt.figure(figsize=(10, 6))\n",
    "sns.boxplot(x=\"fakespot_grade\", y=\"cv\", data=df_daily_count_stats[df_daily_count_stats[\"fakespot_grade\"].isin(grades)], palette=\"viridis\", order=grades)\n",
    "plt.xlabel(\"Product Grade\")\n",
    "plt.ylabel(\"Coefficient of Variance (CV)\")\n",
    "plt.title(\"Distribution of CV of the Daily Review Count Across Product Grades\")\n",
    "plt.grid(axis='y', linestyle='--')\n",
    "plt.tight_layout()\n",
    "plt.show()"
   ]
  },
  {
   "cell_type": "markdown",
   "metadata": {},
   "source": [
    "Overall - increasing variability with grade generally\n",
    "- When we move from grade A to F (left to right), the spread of the CV values seems to increase. This means the review counts become more variable day-to-day.\n",
    "- Products with higher grades (A, B) seem to have more stable, consistent review counts. Products with lower grades (F) demonstrate the highest degree of volatility in daily review counts.\n"
   ]
  },
  {
   "cell_type": "markdown",
   "metadata": {},
   "source": [
    "# Suspecious pattern - **number of word count per review**"
   ]
  },
  {
   "cell_type": "code",
   "execution_count": null,
   "metadata": {},
   "outputs": [
    {
     "name": "stdout",
     "output_type": "stream",
     "text": [
      "obj successfully loaded.\n"
     ]
    }
   ],
   "source": [
    "df_all_product_features = load_pickle(\"cache/df_all_product_features\")"
   ]
  },
  {
   "cell_type": "markdown",
   "metadata": {},
   "source": [
    "Extract the feature_3 which is the word count of each review, and calculate the mean, var, std and cv of the value for each product.\n",
    "\n",
    "CV represents how variant the sentence lenght it is for the review. The context behind this pattern is that legit reviews from human should be variant. Machine/fake reviews that follows template and standard rules are usually generating similar content."
   ]
  },
  {
   "cell_type": "code",
   "execution_count": 13,
   "metadata": {},
   "outputs": [],
   "source": [
    "# feature 3 - word count\n",
    "review_token_length = df_all_product_features[[\"feature_3\", \"product_url\"]].groupby(\"product_url\")[\"feature_3\"].apply(list).to_dict()\n",
    "review_token_length_stats = {}\n",
    "for product_url, pos_sen  in review_token_length.items():\n",
    "    review_token_length_stats.setdefault(product_url, {})\n",
    "    review_token_length_stats[product_url][\"mean\"] = np.mean(pos_sen)\n",
    "    review_token_length_stats[product_url][\"std\"] = np.std(pos_sen)\n",
    "    review_token_length_stats[product_url][\"var\"] = np.var(pos_sen)\n",
    "    review_token_length_stats[product_url][\"cv\"] = np.std(pos_sen)/np.mean(pos_sen)"
   ]
  },
  {
   "cell_type": "code",
   "execution_count": 18,
   "metadata": {},
   "outputs": [],
   "source": [
    "df_review_token_length_stats = pd.DataFrame(review_token_length_stats).T\n",
    "df_review_token_length_stats[\"fakespot_grade\"] = [fakespot_grade[product_url] for product_url in df_review_token_length_stats.index]"
   ]
  },
  {
   "cell_type": "code",
   "execution_count": 20,
   "metadata": {},
   "outputs": [
    {
     "name": "stderr",
     "output_type": "stream",
     "text": [
      "/var/folders/l5/7tf27m_n63l32m8869jhz85m0000gr/T/ipykernel_96992/248033536.py:5: FutureWarning: \n",
      "\n",
      "Passing `palette` without assigning `hue` is deprecated and will be removed in v0.14.0. Assign the `x` variable to `hue` and set `legend=False` for the same effect.\n",
      "\n",
      "  sns.boxplot(x=\"fakespot_grade\", y=\"cv\", data=df_review_token_length_stats[df_review_token_length_stats[\"fakespot_grade\"].isin(grades)], palette=\"viridis\", order=grades)\n"
     ]
    },
    {
     "data": {
      "image/png": "[encoded data removed]",
      "text/plain": [
       "<Figure size 1000x600 with 1 Axes>"
      ]
     },
     "metadata": {},
     "output_type": "display_data"
    }
   ],
   "source": [
    "import matplotlib.pyplot as plt\n",
    "import seaborn as sns\n",
    "\n",
    "plt.figure(figsize=(10, 6))\n",
    "sns.boxplot(x=\"fakespot_grade\", y=\"cv\", data=df_review_token_length_stats[df_review_token_length_stats[\"fakespot_grade\"].isin(grades)], palette=\"viridis\", order=grades)\n",
    "plt.xlabel(\"Product Grade\")\n",
    "plt.ylabel(\"Coefficient of Variance (CV)\")\n",
    "plt.title(\"Distribution of CV of Word Count Across Product Grades\")\n",
    "plt.grid(axis='y', linestyle='--')\n",
    "plt.tight_layout()\n",
    "plt.show()"
   ]
  },
  {
   "cell_type": "markdown",
   "metadata": {},
   "source": [
    "There's no obvious trend for all grades from A to F, \n",
    "It might suggest that reviews for lower-graded products tend to be more uniform in length, possibly because fake or manipulated reviews might exhibit less variability in length if they're generated using templates or simpler patterns. This is particularly interesting given F represents less reliable reviews."
   ]
  },
  {
   "cell_type": "markdown",
   "metadata": {},
   "source": [
    "### Suspecious pattern - **similarity of reviews**"
   ]
  },
  {
   "cell_type": "markdown",
   "metadata": {},
   "source": [
    "Extract the text token for all reviews from each project, and create TF-IDF features to calcualte the similarity of the reviews for each individual product.\n",
    "\n",
    "The context behind this analysis is that fake/manipulated reviews which follow same format has higher similarity compared with legit reviews from human that vary based on people's perferences."
   ]
  },
  {
   "cell_type": "code",
   "execution_count": 21,
   "metadata": {},
   "outputs": [],
   "source": [
    "product_token_dict = df_all_product_features[[\"token_string\", \"product_url\"]].groupby(\"product_url\")[\"token_string\"].apply(list).to_dict()"
   ]
  },
  {
   "cell_type": "code",
   "execution_count": 22,
   "metadata": {},
   "outputs": [],
   "source": [
    "from sklearn.feature_extraction.text import TfidfVectorizer\n",
    "from sklearn.metrics.pairwise import cosine_similarity\n",
    "\n",
    "product_similarity_score = {}\n",
    "for product_url, review_list in product_token_dict.items():\n",
    "    vectorizer = TfidfVectorizer()\n",
    "    tfidf_matrix = vectorizer.fit_transform(review_list)\n",
    "    similarity_matrix = cosine_similarity(tfidf_matrix)\n",
    "        # Extract scores\n",
    "    scores = []\n",
    "    for i in range(len(similarity_matrix)):\n",
    "      for j in range(i + 1, len(similarity_matrix)):\n",
    "          scores.append(similarity_matrix[i, j])\n",
    "    scores = np.array(scores)\n",
    "    if(len(scores) == 0):\n",
    "        product_scores = {\"mean\":0, \"median\":0, \"std\":0, \"scores\":[]}\n",
    "    else:\n",
    "        product_scores =  {\"mean\": np.mean(scores), \"median\": np.median(scores), \"std\": np.std(scores), \"scores\": scores}\n",
    "    product_similarity_score[product_url] = product_scores"
   ]
  },
  {
   "cell_type": "code",
   "execution_count": 23,
   "metadata": {},
   "outputs": [],
   "source": [
    "df_product_review_similarity_stats = pd.DataFrame(product_similarity_score).T\n",
    "df_product_review_similarity_stats[\"fakespot_grade\"] = [fakespot_grade[product_url] for product_url in df_product_review_similarity_stats.index]"
   ]
  },
  {
   "cell_type": "code",
   "execution_count": 25,
   "metadata": {},
   "outputs": [
    {
     "name": "stderr",
     "output_type": "stream",
     "text": [
      "/var/folders/l5/7tf27m_n63l32m8869jhz85m0000gr/T/ipykernel_96992/2052347128.py:5: FutureWarning: \n",
      "\n",
      "Passing `palette` without assigning `hue` is deprecated and will be removed in v0.14.0. Assign the `x` variable to `hue` and set `legend=False` for the same effect.\n",
      "\n",
      "  sns.boxplot(x=\"fakespot_grade\", y=\"median\", data=df_product_review_similarity_stats[df_product_review_similarity_stats[\"fakespot_grade\"].isin(grades)], order=grades, palette=\"viridis\")\n"
     ]
    },
    {
     "data": {
      "image/png": "[encoded data removed]",
      "text/plain": [
       "<Figure size 1000x600 with 1 Axes>"
      ]
     },
     "metadata": {},
     "output_type": "display_data"
    }
   ],
   "source": [
    "import matplotlib.pyplot as plt\n",
    "import seaborn as sns\n",
    "\n",
    "plt.figure(figsize=(10, 6))\n",
    "sns.boxplot(x=\"fakespot_grade\", y=\"median\", data=df_product_review_similarity_stats[df_product_review_similarity_stats[\"fakespot_grade\"].isin(grades)], order=grades, palette=\"viridis\")\n",
    "plt.xlabel(\"Product Grade\")\n",
    "plt.ylabel(\"Coefficient of Variance (CV)\")\n",
    "plt.title(\"Distribution of median of Similarity Score Across Product Grades\")\n",
    "plt.grid(axis='y', linestyle='--')\n",
    "plt.tight_layout()\n",
    "plt.show()"
   ]
  },
  {
   "cell_type": "markdown",
   "metadata": {},
   "source": [
    "The increasing median similarity score and IQR for lower-graded products could indicate more similar/repetitive reviews \n",
    "\n",
    "- Fake or bot-generated reviews - These reviews often reuse phrases or templates, leading to higher similarity.\n",
    "- Review manipulation - Sellers might try to boost ratings by posting multiple similar positive reviews.\n",
    "- Less diverse customer base - If fewer real customers are reviewing these products, the diversity of opinions and writing styles might be lower, leading to more similar reviews."
   ]
  },
  {
   "cell_type": "markdown",
   "metadata": {},
   "source": [
    "# Suspecious pattern - Ratio on number of reviews over number of ratings"
   ]
  },
  {
   "cell_type": "markdown",
   "metadata": {},
   "source": [
    "For each product, we extracted the total number of ratings and the total number of reviews. \n",
    "\n",
    "Context behind is factor is that typically, customers are more inclined to simply rate a product than write a full review. A significantly high ratio of ratings to reviews could be a red flag, suggesting potential manipulation of the product's rating."
   ]
  },
  {
   "cell_type": "code",
   "execution_count": 26,
   "metadata": {},
   "outputs": [
    {
     "name": "stderr",
     "output_type": "stream",
     "text": [
      "/var/folders/l5/7tf27m_n63l32m8869jhz85m0000gr/T/ipykernel_96992/3300578308.py:5: FutureWarning: \n",
      "\n",
      "Passing `palette` without assigning `hue` is deprecated and will be removed in v0.14.0. Assign the `x` variable to `hue` and set `legend=False` for the same effect.\n",
      "\n",
      "  sns.boxplot(x=\"product_fakespot_grade\", y=\"review_rating_ratio\", data=df_all_product_features[(df_all_product_features[\"review_rating_ratio\"]<1)&(df_all_product_features[\"product_fakespot_grade\"].isin(grades))], palette=\"viridis\", order=grades)\n"
     ]
    },
    {
     "data": {
      "image/png": "[encoded data removed]",
      "text/plain": [
       "<Figure size 1000x600 with 1 Axes>"
      ]
     },
     "metadata": {},
     "output_type": "display_data"
    }
   ],
   "source": [
    "import matplotlib.pyplot as plt\n",
    "import seaborn as sns\n",
    "\n",
    "plt.figure(figsize=(10, 6))\n",
    "sns.boxplot(x=\"product_fakespot_grade\", y=\"review_rating_ratio\", data=df_all_product_features[(df_all_product_features[\"review_rating_ratio\"]<1)&(df_all_product_features[\"product_fakespot_grade\"].isin(grades))], palette=\"viridis\", order=grades)\n",
    "plt.xlabel(\"Product Grade\")\n",
    "plt.ylabel(\"Coefficient of Variance (CV)\")\n",
    "plt.title(\"Distribution of Ratio on Number of Reviews and Number of Ratings Across Product Grades\")\n",
    "plt.grid(axis='y', linestyle='--')\n",
    "plt.tight_layout()\n",
    "plt.show()"
   ]
  },
  {
   "cell_type": "markdown",
   "metadata": {},
   "source": [
    "The ratio of ratings to reviews increases as product grades decrease (from A to F).\n",
    "\n",
    "This is particularly noticeable for grades D and F, where many products exhibit unusually high ratios (e.g., 90+ reviews for every 100 ratings). This pattern contradicts typical consumer behavior, where ratings generally outnumber reviews. The high ratios for lower-graded products raise strong suspicions of review manipulation."
   ]
  },
  {
   "cell_type": "markdown",
   "metadata": {},
   "source": [
    "# Suspecious pattern - percentage of number of reviews with image"
   ]
  },
  {
   "cell_type": "markdown",
   "metadata": {},
   "source": [
    "Similar to above pattern, typical consumer behavior reluctant to add images/videos in their reviews, if the percentage is relatively high then it may indicate suspecious of manipulations."
   ]
  },
  {
   "cell_type": "code",
   "execution_count": 27,
   "metadata": {},
   "outputs": [],
   "source": [
    "review_image_count_dict = df_all_product_features.groupby(\"product_url\")[\"feature_0\"].apply(\"value_counts\").to_dict()\n",
    "review_with_image_count_dict = {url_bool_tuple[0]: count for url_bool_tuple, count in review_image_count_dict.items() if url_bool_tuple[1] is True}\n",
    "review_without_image_count_dict = {url_bool_tuple[0]: count for url_bool_tuple, count in review_image_count_dict.items() if url_bool_tuple[1] is False}\n",
    "df_image_count =pd.DataFrame.from_dict(review_with_image_count_dict, orient=\"index\", columns=[\"count_review_with_image\"])\n",
    "df_no_image_count =pd.DataFrame.from_dict(review_without_image_count_dict, orient=\"index\", columns=[\"count_review_without_image\"])\n",
    "df_review_images_count = pd.merge(df_image_count, df_no_image_count, left_index=True, right_index=True)\n",
    "\n",
    "missing_index = [prod[0] for prod in review_image_count_dict.keys() if prod[0] not in df_review_images_count.index]\n",
    "df_review_images_count[\"total_count\"] = df_review_images_count[\"count_review_with_image\"] + df_review_images_count[\"count_review_without_image\"]\n",
    "df_review_images_count[\"rate_of_review_with_image\"] = df_review_images_count[\"count_review_with_image\"]/df_review_images_count[\"total_count\"]\n",
    "df_review_images_count[\"fakespot_grade\"] = df_review_images_count.index.map(fakespot_grade)"
   ]
  },
  {
   "cell_type": "code",
   "execution_count": 29,
   "metadata": {},
   "outputs": [
    {
     "name": "stderr",
     "output_type": "stream",
     "text": [
      "/var/folders/l5/7tf27m_n63l32m8869jhz85m0000gr/T/ipykernel_96992/2214345272.py:5: FutureWarning: \n",
      "\n",
      "Passing `palette` without assigning `hue` is deprecated and will be removed in v0.14.0. Assign the `x` variable to `hue` and set `legend=False` for the same effect.\n",
      "\n",
      "  sns.boxplot(x=\"fakespot_grade\", y=\"rate_of_review_with_image\", data=df_review_images_count[df_review_images_count[\"fakespot_grade\"].isin(grades)], palette=\"viridis\", order=grades)\n"
     ]
    },
    {
     "data": {
      "image/png": "[encoded data removed]",
      "text/plain": [
       "<Figure size 1000x600 with 1 Axes>"
      ]
     },
     "metadata": {},
     "output_type": "display_data"
    }
   ],
   "source": [
    "import matplotlib.pyplot as plt\n",
    "import seaborn as sns\n",
    "\n",
    "plt.figure(figsize=(10, 6))\n",
    "sns.boxplot(x=\"fakespot_grade\", y=\"rate_of_review_with_image\", data=df_review_images_count[df_review_images_count[\"fakespot_grade\"].isin(grades)], palette=\"viridis\", order=grades)\n",
    "plt.xlabel(\"Product Grade\")\n",
    "plt.ylabel(\"Coefficient of Variance (CV)\")\n",
    "plt.title(\"Distribution of Percentage of Count of Reviews with Images Across Product Grades\")\n",
    "plt.grid(axis='y', linestyle='--')\n",
    "plt.tight_layout()\n",
    "plt.show()"
   ]
  },
  {
   "cell_type": "markdown",
   "metadata": {},
   "source": [
    "There's a clear upward trend in the percentage of reviews with images as we move from grade A to grade F. This means products with lower reliability grades tend to have a higher proportion of reviews including images. Fake or incentivized reviews might be more likely to include images to appear more authentic or convincing. This aligns with the expectation that lower-graded products are more susceptible to manipulation.\n",
    "\n",
    "Grade A has very consistent data with a tight IQR and no outliers."
   ]
  },
  {
   "cell_type": "markdown",
   "metadata": {},
   "source": [
    "# Suspecious pattern - percentage of number of reviews with videos"
   ]
  },
  {
   "cell_type": "code",
   "execution_count": 30,
   "metadata": {},
   "outputs": [],
   "source": [
    "review_video_count_dict = df_all_product_features.groupby(\"product_url\")[\"feature_1\"].apply(\"value_counts\").to_dict()\n",
    "review_with_video_count_dict = {url_bool_tuple[0]: count for url_bool_tuple, count in review_video_count_dict.items() if url_bool_tuple[1] is True}\n",
    "review_without_video_count_dict = {url_bool_tuple[0]: count for url_bool_tuple, count in review_video_count_dict.items() if url_bool_tuple[1] is False}\n",
    "df_video_count =pd.DataFrame.from_dict(review_with_video_count_dict, orient=\"index\", columns=[\"count_review_with_video\"])\n",
    "df_no_video_count =pd.DataFrame.from_dict(review_without_video_count_dict, orient=\"index\", columns=[\"count_review_without_video\"])\n",
    "df_review_video_count = pd.merge(df_video_count, df_no_video_count, left_index=True, right_index=True)\n",
    "\n",
    "missing_index = [prod[0] for prod in review_video_count_dict.keys() if prod[0] not in df_review_video_count.index]\n",
    "df_review_video_count[\"total_count\"] = df_review_video_count[\"count_review_with_video\"] + df_review_video_count[\"count_review_without_video\"]\n",
    "df_review_video_count[\"rate_of_review_with_video\"] = df_review_video_count[\"count_review_with_video\"]/df_review_video_count[\"total_count\"]\n",
    "df_review_video_count[\"fakespot_grade\"] = df_review_video_count.index.map(fakespot_grade)"
   ]
  },
  {
   "cell_type": "code",
   "execution_count": 32,
   "metadata": {},
   "outputs": [
    {
     "name": "stderr",
     "output_type": "stream",
     "text": [
      "/var/folders/l5/7tf27m_n63l32m8869jhz85m0000gr/T/ipykernel_96992/1254666554.py:5: FutureWarning: \n",
      "\n",
      "Passing `palette` without assigning `hue` is deprecated and will be removed in v0.14.0. Assign the `x` variable to `hue` and set `legend=False` for the same effect.\n",
      "\n",
      "  sns.boxplot(x=\"fakespot_grade\", y=\"rate_of_review_with_video\", data=df_review_video_count[df_review_video_count[\"fakespot_grade\"].isin(grades)], palette=\"viridis\", order=grades)\n"
     ]
    },
    {
     "data": {
      "image/png": "[encoded data removed]",
      "text/plain": [
       "<Figure size 1000x600 with 1 Axes>"
      ]
     },
     "metadata": {},
     "output_type": "display_data"
    }
   ],
   "source": [
    "import matplotlib.pyplot as plt\n",
    "import seaborn as sns\n",
    "\n",
    "plt.figure(figsize=(10, 6))\n",
    "sns.boxplot(x=\"fakespot_grade\", y=\"rate_of_review_with_video\", data=df_review_video_count[df_review_video_count[\"fakespot_grade\"].isin(grades)], palette=\"viridis\", order=grades)\n",
    "plt.xlabel(\"Product Grade\")\n",
    "plt.ylabel(\"Coefficient of Variance (CV)\")\n",
    "plt.title(\"Distribution of Percentage of Count of Reviews with Videos Across Product Grades\")\n",
    "plt.grid(axis='y', linestyle='--')\n",
    "plt.tight_layout()\n",
    "plt.show()"
   ]
  },
  {
   "cell_type": "markdown",
   "metadata": {},
   "source": [
    "The low overall percentages likely reflect the greater effort required to create and upload video reviews compared to text or image reviews, the percentage of reviews with videos is generally quite low across all grades, with most medians falling below 0.025 (2.5%).\n",
    "\n",
    "While the percentages are low, there's a general upward trend from grade A to D. However, grade F shows a decrease in the median percentage compared to D."
   ]
  },
  {
   "cell_type": "markdown",
   "metadata": {},
   "source": [
    "### Suspecrious pattern - **review sentiment**"
   ]
  },
  {
   "cell_type": "markdown",
   "metadata": {},
   "source": [
    "Fake or manipulated reviews has one objective, is to convience the potential customers that the product is good. So unless the project is absolutely satisfied for everyone, the sentiment should has mix of positive and negative reviews."
   ]
  },
  {
   "cell_type": "code",
   "execution_count": null,
   "metadata": {},
   "outputs": [],
   "source": [
    "# feature 6 is the popularity score of postivie sentiment\n",
    "review_pos_sentiment = df_all_product_features[[\"feature_6\", \"product_url\"]].groupby(\"product_url\")[\"feature_6\"].apply(list).to_dict()\n",
    "review_pos_sentiment_stats = {}\n",
    "for product_url, pos_sen  in review_pos_sentiment.items():\n",
    "    review_pos_sentiment_stats.setdefault(product_url, {})\n",
    "    review_pos_sentiment_stats[product_url][\"mean\"] = np.mean(pos_sen)\n",
    "    review_pos_sentiment_stats[product_url][\"std\"] = np.std(pos_sen)\n",
    "    review_pos_sentiment_stats[product_url][\"var\"] = np.var(pos_sen)\n",
    "    review_pos_sentiment_stats[product_url][\"cd\"] = np.std(pos_sen)/np.mean(pos_sen)"
   ]
  },
  {
   "cell_type": "code",
   "execution_count": 34,
   "metadata": {},
   "outputs": [],
   "source": [
    "df_review_pos_sentiment_stats = pd.DataFrame(review_pos_sentiment_stats).T\n",
    "df_review_pos_sentiment_stats[\"fakespot_grade\"] = [fakespot_grade[product_url] for product_url in df_review_pos_sentiment_stats.index]"
   ]
  },
  {
   "cell_type": "code",
   "execution_count": 36,
   "metadata": {},
   "outputs": [
    {
     "name": "stderr",
     "output_type": "stream",
     "text": [
      "/var/folders/l5/7tf27m_n63l32m8869jhz85m0000gr/T/ipykernel_96992/1352904350.py:5: FutureWarning: \n",
      "\n",
      "Passing `palette` without assigning `hue` is deprecated and will be removed in v0.14.0. Assign the `x` variable to `hue` and set `legend=False` for the same effect.\n",
      "\n",
      "  sns.boxplot(x=\"fakespot_grade\", y=\"mean\", data=df_review_pos_sentiment_stats[df_review_pos_sentiment_stats[\"fakespot_grade\"].isin(grades)], palette=\"viridis\", order=grades)\n"
     ]
    },
    {
     "data": {
      "image/png": "[encoded data removed]",
      "text/plain": [
       "<Figure size 1000x600 with 1 Axes>"
      ]
     },
     "metadata": {},
     "output_type": "display_data"
    }
   ],
   "source": [
    "import matplotlib.pyplot as plt\n",
    "import seaborn as sns\n",
    "\n",
    "plt.figure(figsize=(10, 6))\n",
    "sns.boxplot(x=\"fakespot_grade\", y=\"mean\", data=df_review_pos_sentiment_stats[df_review_pos_sentiment_stats[\"fakespot_grade\"].isin(grades)], palette=\"viridis\", order=grades)\n",
    "plt.xlabel(\"Product Grade\")\n",
    "plt.ylabel(\"Coefficient of Variance (CV)\")\n",
    "plt.title(\"Distribution of Positive Sentiment Scores Across Product Grades\")\n",
    "plt.grid(axis='y', linestyle='--')\n",
    "plt.tight_layout()\n",
    "plt.show()"
   ]
  },
  {
   "cell_type": "markdown",
   "metadata": {},
   "source": [
    "There's a general upward trend in positive sentiment scores as we move from product grade A to D. This suggests that lower-graded products tend to have higher positive sentiment in their reviews."
   ]
  },
  {
   "cell_type": "markdown",
   "metadata": {},
   "source": [
    "# Experimental modelling - classification"
   ]
  },
  {
   "cell_type": "markdown",
   "metadata": {},
   "source": [
    "Building a binary classification model to classify if a the review is legit (not fake). \n",
    "\n",
    "Assumption:\n",
    "- Assume all the reviews in grade F are fake, and all the reviews in grade A are legit\n",
    "- Train a classifier to classify on every grade\n",
    "- Based on percentage of classified A & F, and define a list of threshold/range, we can define or give a grade to each product based on the reviews\n",
    "\n",
    "Data preprocessing:\n",
    "- text preprocessing\n",
    "- tokenization\n",
    "- generate basic nlp features for reviews\n",
    "- calculate product level features discussed above, reviews on same product shares the same values\n",
    "\n",
    "Train test split:\n",
    "- reviews by same product are treated as unsplitable data group, so the train test split is split by product url\n",
    "- all reviews from a product should be either in the training set, or testing set\n",
    "\n",
    "models:\n",
    "- Basic benchmark model - random forest\n",
    "- XGBoost Classifier"
   ]
  },
  {
   "cell_type": "code",
   "execution_count": 39,
   "metadata": {},
   "outputs": [
    {
     "name": "stdout",
     "output_type": "stream",
     "text": [
      "obj successfully loaded.\n"
     ]
    }
   ],
   "source": [
    "df_all_product_features = load_pickle(\"cache/df_all_product_features\")"
   ]
  },
  {
   "cell_type": "code",
   "execution_count": 40,
   "metadata": {},
   "outputs": [],
   "source": [
    "# percentage of num. reviews with image\n",
    "review_with_image_counts = df_all_product_features.groupby(\"product_url\")[\"feature_0\"].sum().to_dict()\n",
    "review_counts = df_all_product_features.groupby(\"product_url\")[\"feature_0\"].count().to_dict()\n",
    "review_with_image_percentage = {}\n",
    "for product_url, count in review_counts.items():\n",
    "    review_with_image_percentage[product_url] = review_with_image_counts.get(product_url, 0)/ review_counts[product_url] "
   ]
  },
  {
   "cell_type": "code",
   "execution_count": 41,
   "metadata": {},
   "outputs": [],
   "source": [
    "# percentage of num. reviews with image\n",
    "review_with_video_counts = df_all_product_features.groupby(\"product_url\")[\"feature_1\"].sum().to_dict()\n",
    "review_with_video_percentage = {}\n",
    "for product_url, count in review_counts.items():\n",
    "    review_with_video_percentage[product_url] = review_with_video_counts.get(product_url, 0)/ review_counts[product_url] "
   ]
  },
  {
   "cell_type": "code",
   "execution_count": 42,
   "metadata": {},
   "outputs": [],
   "source": [
    "# coefficient of variance for daily number of reviews (how fluctuated on the daily review count)\n",
    "cv_daily_review_count = {product_url: d[\"cv\"] for product_url, d in product_daily_count_stats.items()}"
   ]
  },
  {
   "cell_type": "code",
   "execution_count": 43,
   "metadata": {},
   "outputs": [],
   "source": [
    "# coefficient of variance for number of token of reviews (how fluctuated on the length of the review)\n",
    "cv_review_token_length = {product_url: d[\"cv\"] for product_url, d in review_token_length_stats.items()}"
   ]
  },
  {
   "cell_type": "code",
   "execution_count": 44,
   "metadata": {},
   "outputs": [],
   "source": [
    "# similarity of the reviews\n",
    "product_similarity_score_mean = {product_url: d[\"mean\"] for product_url, d in product_similarity_score.items()}\n",
    "product_similarity_score_median = {product_url: d[\"median\"] for product_url, d in product_similarity_score.items()}"
   ]
  },
  {
   "cell_type": "code",
   "execution_count": 45,
   "metadata": {},
   "outputs": [],
   "source": [
    "df_all_product_features[\"review_with_image_percentage\"] = df_all_product_features[\"product_url\"].map(review_with_image_percentage)\n",
    "df_all_product_features[\"review_with_video_percentage\"] = df_all_product_features[\"product_url\"].map(review_with_video_percentage)\n",
    "df_all_product_features[\"cv_daily_review_count\"] = df_all_product_features[\"product_url\"].map(cv_daily_review_count)\n",
    "df_all_product_features[\"cv_review_token_length\"] = df_all_product_features[\"product_url\"].map(cv_review_token_length)\n",
    "df_all_product_features[\"product_similarity_score_mean\"] = df_all_product_features[\"product_url\"].map(product_similarity_score_mean)\n",
    "df_all_product_features[\"product_similarity_score_median\"] = df_all_product_features[\"product_url\"].map(product_similarity_score_median)\n"
   ]
  },
  {
   "cell_type": "code",
   "execution_count": 47,
   "metadata": {},
   "outputs": [
    {
     "data": {
      "text/html": [
       "<div>\n",
       "<style scoped>\n",
       "    .dataframe tbody tr th:only-of-type {\n",
       "        vertical-align: middle;\n",
       "    }\n",
       "\n",
       "    .dataframe tbody tr th {\n",
       "        vertical-align: top;\n",
       "    }\n",
       "\n",
       "    .dataframe thead th {\n",
       "        text-align: right;\n",
       "    }\n",
       "</style>\n",
       "<table border=\"1\" class=\"dataframe\">\n",
       "  <thead>\n",
       "    <tr style=\"text-align: right;\">\n",
       "      <th></th>\n",
       "      <th>feature_0</th>\n",
       "      <th>feature_1</th>\n",
       "      <th>feature_2</th>\n",
       "      <th>feature_3</th>\n",
       "      <th>feature_4</th>\n",
       "      <th>feature_5</th>\n",
       "      <th>feature_6</th>\n",
       "      <th>feature_7</th>\n",
       "      <th>feature_8</th>\n",
       "      <th>feature_9</th>\n",
       "      <th>token_string</th>\n",
       "      <th>product_url</th>\n",
       "      <th>review_rating_ratio</th>\n",
       "      <th>product_fakespot_grade</th>\n",
       "      <th>review_with_image_percentage</th>\n",
       "      <th>review_with_video_percentage</th>\n",
       "      <th>cv_daily_review_count</th>\n",
       "      <th>cv_review_token_length</th>\n",
       "      <th>product_similarity_score_mean</th>\n",
       "      <th>product_similarity_score_median</th>\n",
       "    </tr>\n",
       "  </thead>\n",
       "  <tbody>\n",
       "    <tr>\n",
       "      <th>R30SZV56T07JOV</th>\n",
       "      <td>False</td>\n",
       "      <td>False</td>\n",
       "      <td>4</td>\n",
       "      <td>9</td>\n",
       "      <td>6.111111</td>\n",
       "      <td>7</td>\n",
       "      <td>0.577</td>\n",
       "      <td>0.0</td>\n",
       "      <td>0.423</td>\n",
       "      <td>0.8012</td>\n",
       "      <td>quality sound really good good quality materia...</td>\n",
       "      <td>https://www.amazon.com/All-new-Echo-Buds-2023-...</td>\n",
       "      <td>0.317468</td>\n",
       "      <td>B</td>\n",
       "      <td>0.06</td>\n",
       "      <td>0.0</td>\n",
       "      <td>0.451664</td>\n",
       "      <td>1.544582</td>\n",
       "      <td>0.03372</td>\n",
       "      <td>0.009828</td>\n",
       "    </tr>\n",
       "    <tr>\n",
       "      <th>R2YD8IZAN1L5QV</th>\n",
       "      <td>False</td>\n",
       "      <td>False</td>\n",
       "      <td>1</td>\n",
       "      <td>20</td>\n",
       "      <td>4.5</td>\n",
       "      <td>17</td>\n",
       "      <td>0.0</td>\n",
       "      <td>0.217</td>\n",
       "      <td>0.783</td>\n",
       "      <td>-0.6124</td>\n",
       "      <td>difficult pair pair alexa never got work even ...</td>\n",
       "      <td>https://www.amazon.com/All-new-Echo-Buds-2023-...</td>\n",
       "      <td>0.317468</td>\n",
       "      <td>B</td>\n",
       "      <td>0.06</td>\n",
       "      <td>0.0</td>\n",
       "      <td>0.451664</td>\n",
       "      <td>1.544582</td>\n",
       "      <td>0.03372</td>\n",
       "      <td>0.009828</td>\n",
       "    </tr>\n",
       "    <tr>\n",
       "      <th>R1SG3KLESASNYO</th>\n",
       "      <td>False</td>\n",
       "      <td>False</td>\n",
       "      <td>4</td>\n",
       "      <td>4</td>\n",
       "      <td>5.5</td>\n",
       "      <td>4</td>\n",
       "      <td>0.516</td>\n",
       "      <td>0.0</td>\n",
       "      <td>0.484</td>\n",
       "      <td>0.4927</td>\n",
       "      <td>price product really good</td>\n",
       "      <td>https://www.amazon.com/All-new-Echo-Buds-2023-...</td>\n",
       "      <td>0.317468</td>\n",
       "      <td>B</td>\n",
       "      <td>0.06</td>\n",
       "      <td>0.0</td>\n",
       "      <td>0.451664</td>\n",
       "      <td>1.544582</td>\n",
       "      <td>0.03372</td>\n",
       "      <td>0.009828</td>\n",
       "    </tr>\n",
       "    <tr>\n",
       "      <th>R1BRUHA6158TD1</th>\n",
       "      <td>False</td>\n",
       "      <td>False</td>\n",
       "      <td>1</td>\n",
       "      <td>14</td>\n",
       "      <td>5.357143</td>\n",
       "      <td>14</td>\n",
       "      <td>0.326</td>\n",
       "      <td>0.163</td>\n",
       "      <td>0.512</td>\n",
       "      <td>0.5423</td>\n",
       "      <td>product performs 20 ear bud design great idea ...</td>\n",
       "      <td>https://www.amazon.com/All-new-Echo-Buds-2023-...</td>\n",
       "      <td>0.317468</td>\n",
       "      <td>B</td>\n",
       "      <td>0.06</td>\n",
       "      <td>0.0</td>\n",
       "      <td>0.451664</td>\n",
       "      <td>1.544582</td>\n",
       "      <td>0.03372</td>\n",
       "      <td>0.009828</td>\n",
       "    </tr>\n",
       "    <tr>\n",
       "      <th>R3IK00EI1WUVQO</th>\n",
       "      <td>False</td>\n",
       "      <td>False</td>\n",
       "      <td>4</td>\n",
       "      <td>7</td>\n",
       "      <td>5.714286</td>\n",
       "      <td>7</td>\n",
       "      <td>0.406</td>\n",
       "      <td>0.0</td>\n",
       "      <td>0.594</td>\n",
       "      <td>0.6249</td>\n",
       "      <td>great battery life connection volume 100 phone</td>\n",
       "      <td>https://www.amazon.com/All-new-Echo-Buds-2023-...</td>\n",
       "      <td>0.317468</td>\n",
       "      <td>B</td>\n",
       "      <td>0.06</td>\n",
       "      <td>0.0</td>\n",
       "      <td>0.451664</td>\n",
       "      <td>1.544582</td>\n",
       "      <td>0.03372</td>\n",
       "      <td>0.009828</td>\n",
       "    </tr>\n",
       "  </tbody>\n",
       "</table>\n",
       "</div>"
      ],
      "text/plain": [
       "               feature_0 feature_1 feature_2 feature_3 feature_4 feature_5  \\\n",
       "R30SZV56T07JOV     False     False         4         9  6.111111         7   \n",
       "R2YD8IZAN1L5QV     False     False         1        20       4.5        17   \n",
       "R1SG3KLESASNYO     False     False         4         4       5.5         4   \n",
       "R1BRUHA6158TD1     False     False         1        14  5.357143        14   \n",
       "R3IK00EI1WUVQO     False     False         4         7  5.714286         7   \n",
       "\n",
       "               feature_6 feature_7 feature_8 feature_9  \\\n",
       "R30SZV56T07JOV     0.577       0.0     0.423    0.8012   \n",
       "R2YD8IZAN1L5QV       0.0     0.217     0.783   -0.6124   \n",
       "R1SG3KLESASNYO     0.516       0.0     0.484    0.4927   \n",
       "R1BRUHA6158TD1     0.326     0.163     0.512    0.5423   \n",
       "R3IK00EI1WUVQO     0.406       0.0     0.594    0.6249   \n",
       "\n",
       "                                                     token_string  \\\n",
       "R30SZV56T07JOV  quality sound really good good quality materia...   \n",
       "R2YD8IZAN1L5QV  difficult pair pair alexa never got work even ...   \n",
       "R1SG3KLESASNYO                          price product really good   \n",
       "R1BRUHA6158TD1  product performs 20 ear bud design great idea ...   \n",
       "R3IK00EI1WUVQO     great battery life connection volume 100 phone   \n",
       "\n",
       "                                                      product_url  \\\n",
       "R30SZV56T07JOV  https://www.amazon.com/All-new-Echo-Buds-2023-...   \n",
       "R2YD8IZAN1L5QV  https://www.amazon.com/All-new-Echo-Buds-2023-...   \n",
       "R1SG3KLESASNYO  https://www.amazon.com/All-new-Echo-Buds-2023-...   \n",
       "R1BRUHA6158TD1  https://www.amazon.com/All-new-Echo-Buds-2023-...   \n",
       "R3IK00EI1WUVQO  https://www.amazon.com/All-new-Echo-Buds-2023-...   \n",
       "\n",
       "                review_rating_ratio product_fakespot_grade  \\\n",
       "R30SZV56T07JOV             0.317468                      B   \n",
       "R2YD8IZAN1L5QV             0.317468                      B   \n",
       "R1SG3KLESASNYO             0.317468                      B   \n",
       "R1BRUHA6158TD1             0.317468                      B   \n",
       "R3IK00EI1WUVQO             0.317468                      B   \n",
       "\n",
       "                review_with_image_percentage  review_with_video_percentage  \\\n",
       "R30SZV56T07JOV                          0.06                           0.0   \n",
       "R2YD8IZAN1L5QV                          0.06                           0.0   \n",
       "R1SG3KLESASNYO                          0.06                           0.0   \n",
       "R1BRUHA6158TD1                          0.06                           0.0   \n",
       "R3IK00EI1WUVQO                          0.06                           0.0   \n",
       "\n",
       "                cv_daily_review_count  cv_review_token_length  \\\n",
       "R30SZV56T07JOV               0.451664                1.544582   \n",
       "R2YD8IZAN1L5QV               0.451664                1.544582   \n",
       "R1SG3KLESASNYO               0.451664                1.544582   \n",
       "R1BRUHA6158TD1               0.451664                1.544582   \n",
       "R3IK00EI1WUVQO               0.451664                1.544582   \n",
       "\n",
       "                product_similarity_score_mean  product_similarity_score_median  \n",
       "R30SZV56T07JOV                        0.03372                         0.009828  \n",
       "R2YD8IZAN1L5QV                        0.03372                         0.009828  \n",
       "R1SG3KLESASNYO                        0.03372                         0.009828  \n",
       "R1BRUHA6158TD1                        0.03372                         0.009828  \n",
       "R3IK00EI1WUVQO                        0.03372                         0.009828  "
      ]
     },
     "execution_count": 47,
     "metadata": {},
     "output_type": "execute_result"
    }
   ],
   "source": [
    "df_all_product_features.head()"
   ]
  },
  {
   "cell_type": "code",
   "execution_count": 48,
   "metadata": {},
   "outputs": [],
   "source": [
    "feature_cols = [col for col in df_all_product_features.columns if col not in [\"product_fakespot_grade\", \"token_string\", \"product_url\"]]"
   ]
  },
  {
   "cell_type": "code",
   "execution_count": 423,
   "metadata": {},
   "outputs": [],
   "source": [
    "# train test split"
   ]
  },
  {
   "cell_type": "code",
   "execution_count": 39,
   "metadata": {},
   "outputs": [],
   "source": [
    "# get only A & F products from the df\n",
    "df_model_data = df_all_product_features[df_all_product_features[\"product_fakespot_grade\"].isin([\"A\", \"F\"])]"
   ]
  },
  {
   "cell_type": "code",
   "execution_count": null,
   "metadata": {},
   "outputs": [],
   "source": [
    "df_model_data[\"product_fakespot_grade\"] = df_model_data[\"product_fakespot_grade\"].replace(\"A\", 1)\n",
    "df_model_data[\"product_fakespot_grade\"] = df_model_data[\"product_fakespot_grade\"].replace(\"F\", 0)\n",
    "product_grade_df = df_model_data[[\"product_url\", \"product_fakespot_grade\"]].drop_duplicates()"
   ]
  },
  {
   "cell_type": "code",
   "execution_count": 43,
   "metadata": {},
   "outputs": [],
   "source": [
    "from sklearn.model_selection import train_test_split\n",
    "X_train, X_test, y_train, y_test = train_test_split(product_grade_df[\"product_url\"], product_grade_df[\"product_fakespot_grade\"], test_size=0.3, random_state=42)"
   ]
  },
  {
   "cell_type": "code",
   "execution_count": 44,
   "metadata": {},
   "outputs": [],
   "source": [
    "y_train, y_test = df_model_data[df_model_data[\"product_url\"].isin(X_train.values)][\"product_fakespot_grade\"].values, df_model_data[df_model_data[\"product_url\"].isin(X_test.values)][\"product_fakespot_grade\"].values"
   ]
  },
  {
   "cell_type": "code",
   "execution_count": 45,
   "metadata": {},
   "outputs": [
    {
     "name": "stderr",
     "output_type": "stream",
     "text": [
      "/var/folders/l5/7tf27m_n63l32m8869jhz85m0000gr/T/ipykernel_74512/3457774219.py:1: FutureWarning: Downcasting behavior in `replace` is deprecated and will be removed in a future version. To retain the old behavior, explicitly call `result.infer_objects(copy=False)`. To opt-in to the future behavior, set `pd.set_option('future.no_silent_downcasting', True)`\n",
      "  df_model_data = df_model_data.replace(True, 1)\n",
      "/var/folders/l5/7tf27m_n63l32m8869jhz85m0000gr/T/ipykernel_74512/3457774219.py:2: FutureWarning: Downcasting behavior in `replace` is deprecated and will be removed in a future version. To retain the old behavior, explicitly call `result.infer_objects(copy=False)`. To opt-in to the future behavior, set `pd.set_option('future.no_silent_downcasting', True)`\n",
      "  df_model_data = df_model_data.replace(False, 0)\n"
     ]
    }
   ],
   "source": [
    "df_model_data = df_model_data.replace(True, 1)\n",
    "df_model_data = df_model_data.replace(False, 0)"
   ]
  },
  {
   "cell_type": "code",
   "execution_count": 46,
   "metadata": {},
   "outputs": [],
   "source": [
    "X_train_with_features, X_test_with_features = df_model_data[df_model_data[\"product_url\"].isin(X_train.values)][feature_cols].values, df_model_data[df_model_data[\"product_url\"].isin(X_test.values)][feature_cols].values"
   ]
  },
  {
   "cell_type": "code",
   "execution_count": null,
   "metadata": {},
   "outputs": [],
   "source": [
    "from sklearn.preprocessing import MinMaxScaler\n",
    "  \n",
    "scaler = MinMaxScaler()\n",
    "X_train_features_scaled = scaler.fit_transform(X_train_with_features)\n",
    "X_test_features_scaled = scaler.transform(X_test_with_features)\n",
    "\n",
    "vectorizer = TfidfVectorizer()\n",
    "X_train_vec = vectorizer.fit_transform(df_model_data[df_model_data[\"product_url\"].isin(X_train.values)][\"token_string\"].values)\n",
    "X_test_vec = vectorizer.transform(df_model_data[df_model_data[\"product_url\"].isin(X_test.values)][\"token_string\"].values)\n",
    "\n",
    "X_train_all_features = np.concatenate((X_train_features_scaled, X_train_vec.toarray()), axis=1)\n",
    "X_test_all_features = np.concatenate((X_test_features_scaled, X_test_vec.toarray()), axis=1)"
   ]
  },
  {
   "cell_type": "code",
   "execution_count": 120,
   "metadata": {},
   "outputs": [],
   "source": [
    "from sklearn.decomposition import TruncatedSVD\n",
    "\n",
    "svd = TruncatedSVD(n_components=100)  # Reduce to, say, 100 dimensions\n",
    "X_train_reduced_features = svd.fit_transform(X_train_all_features)\n",
    "X_test_reduced_features = svd.transform(X_test_all_features)"
   ]
  },
  {
   "cell_type": "code",
   "execution_count": 121,
   "metadata": {},
   "outputs": [],
   "source": [
    "from imblearn.over_sampling import SMOTE\n",
    "\n",
    "# Initialize SMOTE\n",
    "oversampler = SMOTE(random_state=42)\n",
    "\n",
    "# Resample the data\n",
    "X_resampled, y_resampled = oversampler.fit_resample(X_train_reduced_features, y_train)"
   ]
  },
  {
   "cell_type": "code",
   "execution_count": 122,
   "metadata": {},
   "outputs": [
    {
     "name": "stdout",
     "output_type": "stream",
     "text": [
      "Best parameters: {'max_depth': 15, 'min_samples_leaf': 1, 'min_samples_split': 5, 'n_estimators': 200}\n"
     ]
    }
   ],
   "source": [
    "# benchmark model\n",
    "\n",
    "from sklearn.ensemble import RandomForestClassifier\n",
    "from sklearn.model_selection import GridSearchCV\n",
    "\n",
    "\n",
    "model = RandomForestClassifier(random_state=42, class_weight='balanced') \n",
    "\n",
    "# Define parameter grid\n",
    "param_grid = {\n",
    "    'n_estimators': [50, 100, 200],\n",
    "    'max_depth': [5, 10, 15],\n",
    "    'min_samples_split': [2, 5, 10],\n",
    "    'min_samples_leaf': [1, 2, 4]\n",
    "    }\n",
    "# Parameter tuning\n",
    "grid_search = GridSearchCV(model, param_grid, cv=5, scoring='f1')\n",
    "grid_search.fit(X_resampled, y_resampled)\n",
    "\n",
    "# Get best model and its best parameters\n",
    "model = grid_search.best_estimator_\n",
    "print(\"Best parameters:\", grid_search.best_params_)\n"
   ]
  },
  {
   "cell_type": "code",
   "execution_count": 123,
   "metadata": {},
   "outputs": [
    {
     "name": "stdout",
     "output_type": "stream",
     "text": [
      "\n",
      "Evaluation Metrics:\n",
      "              precision    recall  f1-score   support\n",
      "\n",
      "           0       0.97      0.93      0.95       417\n",
      "           1       0.98      0.99      0.98      1300\n",
      "\n",
      "    accuracy                           0.98      1717\n",
      "   macro avg       0.97      0.96      0.97      1717\n",
      "weighted avg       0.98      0.98      0.98      1717\n",
      "\n",
      "Accuracy: 0.9761211415259173\n"
     ]
    }
   ],
   "source": [
    "from sklearn.metrics import accuracy_score, classification_report\n",
    "\n",
    "y_pred = model.predict(X_test_reduced_features)\n",
    "print(\"\\nEvaluation Metrics:\")\n",
    "print(classification_report(y_test, y_pred))\n",
    "print(\"Accuracy:\", accuracy_score(y_test, y_pred))"
   ]
  },
  {
   "cell_type": "code",
   "execution_count": 55,
   "metadata": {},
   "outputs": [],
   "source": [
    "# test on other products"
   ]
  },
  {
   "cell_type": "code",
   "execution_count": 136,
   "metadata": {},
   "outputs": [],
   "source": [
    "grades = [\"A\", \"B\", \"C\", \"D\",\"F\"]"
   ]
  },
  {
   "cell_type": "code",
   "execution_count": 151,
   "metadata": {},
   "outputs": [
    {
     "name": "stdout",
     "output_type": "stream",
     "text": [
      "grade A, rate 0.9907692307692307\n",
      "grade B, rate 0.954853034468175\n",
      "grade C, rate 0.788829005389515\n",
      "grade D, rate 0.23615384615384616\n",
      "grade F, rate 0.06954436450839328\n"
     ]
    }
   ],
   "source": [
    "for grade in grades:\n",
    "    df_b = df_all_product_features[(df_all_product_features[\"product_fakespot_grade\"].isin([grade])) & (~df_all_product_features[\"product_url\"].isin(X_train.values))]\n",
    "    df_b = df_b.replace({True: 1, False: 0}).infer_objects(copy=False)\n",
    "\n",
    "    X_test_b = df_b[feature_cols].values\n",
    "    X_test_b_features_scaled = scaler.transform(X_test_b)\n",
    "    X_test_b_vec = vectorizer.transform(df_b[\"token_string\"].values)\n",
    "    X_test_b_all_features = np.concatenate((X_test_b_features_scaled, X_test_b_vec.toarray()), axis=1)\n",
    "    X_test_b_reduced_features = svd.transform(X_test_b_all_features)\n",
    "\n",
    "    y_b_pred = model.predict(X_test_b_reduced_features)\n",
    "    F_rate = list(y_b_pred).count(1)/len(y_b_pred)\n",
    "    print(f\"grade {grade}, rate {F_rate}\")"
   ]
  },
  {
   "cell_type": "markdown",
   "metadata": {},
   "source": [
    "Based on the above result, the model can classified the review by either legit or not, and by calculating how many percent of the reviews for a product is legit, and defining a proper thresholds, we can assign grade to each product\n",
    "\n",
    "example:\n",
    "- A: `>= 0.97`\n",
    "- B: `< 0.97 & >= 0.8`\n",
    "- C: `< 0.8 & >= 0.3`\n",
    "- D: `< 0.3 & >=0.1`\n",
    "- F: `< 0.1`"
   ]
  },
  {
   "cell_type": "markdown",
   "metadata": {},
   "source": [
    "Call-outs:\n",
    "\n",
    "- This is a supervised learning model, which means we will need enough label data points to train the model\n",
    "- The label needs to be accurate enough for the model to learn the actual pattern, which is a big challenge as the legitment of the review is hard to identify with 100% confidency\n",
    "- Threshold definition is going to be a challenging task, as for now they are defined by heuristic rules"
   ]
  },
  {
   "cell_type": "markdown",
   "metadata": {},
   "source": [
    "# Appendix on explorations"
   ]
  },
  {
   "cell_type": "markdown",
   "metadata": {},
   "source": [
    "Explored the unsupervised learning and didn't reach to promising results\n",
    "\n",
    "Tried visualized in 2d on if clusterings exists by categories, didn't observed obvious clustering on different grades of reviews"
   ]
  },
  {
   "cell_type": "code",
   "execution_count": null,
   "metadata": {},
   "outputs": [],
   "source": [
    "# unsupervised\n",
    "df_unsupervised = df_all_product_features[df_all_product_features[\"product_fakespot_grade\"]!=\"?\"][[\"product_url\", \"product_fakespot_grade\"]].drop_duplicates()\n",
    "from sklearn.model_selection import train_test_split\n",
    "X_train, X_test, y_train, y_test = train_test_split(df_unsupervised[\"product_url\"], df_unsupervised[\"product_fakespot_grade\"], test_size=0.3, random_state=42)\n",
    "y_train_unsupervised, y_test_unsupervised = df_all_product_features[df_all_product_features[\"product_url\"].isin(X_train.values)][\"product_fakespot_grade\"].values, df_all_product_features[df_all_product_features[\"product_url\"].isin(X_test.values)][\"product_fakespot_grade\"].values\n",
    "X_train_features_unsupervised, X_test_features_unsupervised = df_all_product_features[df_all_product_features[\"product_url\"].isin(X_train.values)][feature_cols].values, df_all_product_features[df_all_product_features[\"product_url\"].isin(X_test.values)][feature_cols].values"
   ]
  },
  {
   "cell_type": "code",
   "execution_count": 130,
   "metadata": {},
   "outputs": [],
   "source": [
    "from sklearn.preprocessing import MinMaxScaler\n",
    "  \n",
    "scaler = MinMaxScaler()\n",
    "X_train_features_scaled = scaler.fit_transform(X_train_features_unsupervised)\n",
    "X_test_features_scaled = scaler.transform(X_test_features_unsupervised)\n",
    "\n",
    "vectorizer = TfidfVectorizer()\n",
    "X_train_vec = vectorizer.fit_transform(df_all_product_features[df_all_product_features[\"product_url\"].isin(X_train.values)][\"token_string\"].values)\n",
    "X_test_vec = vectorizer.transform(df_all_product_features[df_all_product_features[\"product_url\"].isin(X_test.values)][\"token_string\"].values)\n"
   ]
  },
  {
   "cell_type": "code",
   "execution_count": 142,
   "metadata": {},
   "outputs": [],
   "source": [
    "from sklearn.decomposition import TruncatedSVD\n",
    "\n",
    "svd = TruncatedSVD(n_components=50)  # Reduce to, say, 100 dimensions\n",
    "X_train_reduced_features = svd.fit_transform(X_train_vec.toarray())\n",
    "X_test_reduced_features = svd.transform(X_test_vec.toarray())\n",
    "\n",
    "X_train_all_features = np.concatenate((X_train_features_scaled, X_train_features_scaled), axis=1)\n",
    "X_test_all_features = np.concatenate((X_test_features_scaled, X_test_features_scaled), axis=1)"
   ]
  },
  {
   "cell_type": "code",
   "execution_count": null,
   "metadata": {},
   "outputs": [],
   "source": [
    "from sklearn.cluster import MiniBatchKMeans\n",
    "\n",
    "# Train MiniBatchKMeans \n",
    "kmeans = MiniBatchKMeans(n_clusters=2, init='k-means++', random_state=42, batch_size=1000)  # Adjust batch_size\n",
    "kmeans.fit(X_train_all_features)\n",
    "labels = kmeans.labels_\n",
    "df_eval = pd.DataFrame(y_train_unsupervised, columns=[\"target\"])"
   ]
  },
  {
   "cell_type": "code",
   "execution_count": null,
   "metadata": {},
   "outputs": [],
   "source": [
    "df_eval[\"model_label\"] = labels\n",
    "for label in df_eval[\"model_label\"].unique():\n",
    "    print(df_eval[df_eval[\"model_label\"]==label][\"target\"].value_counts())"
   ]
  },
  {
   "cell_type": "code",
   "execution_count": 163,
   "metadata": {},
   "outputs": [
    {
     "name": "stdout",
     "output_type": "stream",
     "text": [
      "Top 2-grams across all reviews:\n",
      "grade A ('sound', 'quality'): 369\n",
      "grade A ('battery', 'life'): 296\n",
      "grade A ('ear', 'bud'): 125\n",
      "grade A ('great', 'sound'): 120\n",
      "grade A ('sound', 'great'): 108\n",
      "grade A ('work', 'great'): 100\n",
      "grade A ('good', 'sound'): 98\n",
      "grade A ('noise', 'canceling'): 93\n",
      "grade A ('stopped', 'working'): 93\n",
      "grade A ('noise', 'cancellation'): 91\n",
      "Top 2-grams across all reviews:\n",
      "grade B ('sound', 'quality'): 966\n",
      "grade B ('battery', 'life'): 579\n",
      "grade B ('ear', 'bud'): 302\n",
      "grade B ('great', 'sound'): 282\n",
      "grade B ('noise', 'cancelling'): 280\n",
      "grade B ('sound', 'great'): 255\n",
      "grade B ('noise', 'canceling'): 221\n",
      "grade B ('good', 'sound'): 217\n",
      "grade B ('noise', 'cancellation'): 197\n",
      "grade B ('stopped', 'working'): 190\n",
      "Top 2-grams across all reviews:\n",
      "grade C ('sound', 'quality'): 314\n",
      "grade C ('battery', 'life'): 197\n",
      "grade C ('ear', 'bud'): 99\n",
      "grade C ('great', 'sound'): 90\n",
      "grade C ('noise', 'cancelling'): 83\n",
      "grade C ('easy', 'use'): 68\n",
      "grade C ('sound', 'great'): 68\n",
      "grade C ('good', 'sound'): 66\n",
      "grade C ('highly', 'recommend'): 65\n",
      "grade C ('noise', 'canceling'): 64\n",
      "Top 2-grams across all reviews:\n",
      "grade D ('sound', 'quality'): 320\n",
      "grade D ('battery', 'life'): 197\n",
      "grade D ('ear', 'bud'): 138\n",
      "grade D ('great', 'sound'): 83\n",
      "grade D ('sound', 'great'): 74\n",
      "grade D ('wireless', 'earbuds'): 65\n",
      "grade D ('charging', 'case'): 55\n",
      "grade D ('easy', 'use'): 55\n",
      "grade D ('quality', 'great'): 50\n",
      "grade D ('work', 'great'): 50\n",
      "Top 2-grams across all reviews:\n",
      "grade F ('sound', 'quality'): 334\n",
      "grade F ('battery', 'life'): 208\n",
      "grade F ('noise', 'cancellation'): 94\n",
      "grade F ('noise', 'cancelling'): 80\n",
      "grade F ('great', 'sound'): 59\n",
      "grade F ('comfortable', 'wear'): 55\n",
      "grade F ('long', 'battery'): 52\n",
      "grade F ('wireless', 'earbuds'): 48\n",
      "grade F ('quality', 'good'): 48\n",
      "grade F ('highly', 'recommend'): 47\n"
     ]
    }
   ],
   "source": [
    "from nltk.util import ngrams\n",
    "from collections import Counter\n",
    "\n",
    "def analyze_ngrams(tokens, n):\n",
    "    n_grams = ngrams(tokens, n)\n",
    "    n_gram_counts = Counter(n_grams)\n",
    "    return n_gram_counts\n",
    "\n",
    "grades = [\"A\", \"B\", \"C\", \"D\", \"F\"]\n",
    "ngram_data = {}\n",
    "n = 2\n",
    "for grade in [\"A\", \"B\", \"C\", \"D\", \"F\"]:\n",
    "    reviews_grade_dict = df_all_product_features[df_all_product_features[\"product_fakespot_grade\"]==grade][\"token_string\"].to_dict()\n",
    "    all_ngram_counts = Counter()\n",
    "    for review in reviews_grade_dict.values():\n",
    "        tokens = review.split(\" \")\n",
    "        ngram_counts = analyze_ngrams(tokens, n)\n",
    "        all_ngram_counts.update(ngram_counts)\n",
    "\n",
    "    print(f\"Top {n}-grams across all reviews:\")\n",
    "    for ngram, count in all_ngram_counts.most_common(10):\n",
    "        print(f\"grade {grade} {ngram}: {count}\")\n",
    "    ngram_data[grade] = all_ngram_counts\n"
   ]
  }
 ],
 "metadata": {
  "kernelspec": {
   "display_name": "jing-toy",
   "language": "python",
   "name": "python3"
  },
  "language_info": {
   "codemirror_mode": {
    "name": "ipython",
    "version": 3
   },
   "file_extension": ".py",
   "mimetype": "text/x-python",
   "name": "python",
   "nbconvert_exporter": "python",
   "pygments_lexer": "ipython3",
   "version": "3.13.0"
  }
 },
 "nbformat": 4,
 "nbformat_minor": 2
}
